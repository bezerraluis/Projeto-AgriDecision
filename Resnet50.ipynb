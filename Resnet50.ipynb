{
  "nbformat": 4,
  "nbformat_minor": 0,
  "metadata": {
    "colab": {
      "name": "Resnet50.ipynb",
      "provenance": [],
      "authorship_tag": "ABX9TyN3Y1aakNULuUa/I4T5opgM",
      "include_colab_link": true
    },
    "kernelspec": {
      "name": "python3",
      "display_name": "Python 3"
    }
  },
  "cells": [
    {
      "cell_type": "markdown",
      "metadata": {
        "id": "view-in-github",
        "colab_type": "text"
      },
      "source": [
        "<a href=\"https://colab.research.google.com/github/bezerraluis/Projeto-AgriDecision/blob/main/Resnet50.ipynb\" target=\"_parent\"><img src=\"https://colab.research.google.com/assets/colab-badge.svg\" alt=\"Open In Colab\"/></a>"
      ]
    },
    {
      "cell_type": "code",
      "metadata": {
        "id": "5ICB8ypAeNS_"
      },
      "source": [
        ""
      ],
      "execution_count": null,
      "outputs": []
    },
    {
      "cell_type": "markdown",
      "metadata": {
        "id": "DJhWRN4ieQeS"
      },
      "source": [
        "Próximos passos\r\n",
        "- Fazer um repositório com mais imagens"
      ]
    },
    {
      "cell_type": "code",
      "metadata": {
        "id": "G-sndQRIeY6P"
      },
      "source": [
        ""
      ],
      "execution_count": null,
      "outputs": []
    },
    {
      "cell_type": "code",
      "metadata": {
        "colab": {
          "base_uri": "https://localhost:8080/"
        },
        "id": "s6BlZZNnR_h8",
        "outputId": "806c1957-ad0c-473e-ac0c-c72e8c6c8b2b"
      },
      "source": [
        "!git clone https://github.com/starly/Soybean_Images_MachineLearning"
      ],
      "execution_count": 1,
      "outputs": [
        {
          "output_type": "stream",
          "text": [
            "Cloning into 'Soybean_Images_MachineLearning'...\n",
            "remote: Enumerating objects: 11, done.\u001b[K\n",
            "remote: Total 11 (delta 0), reused 0 (delta 0), pack-reused 11\u001b[K\n",
            "Unpacking objects: 100% (11/11), done.\n"
          ],
          "name": "stdout"
        }
      ]
    },
    {
      "cell_type": "code",
      "metadata": {
        "colab": {
          "base_uri": "https://localhost:8080/"
        },
        "id": "pS1EV-T6SgYa",
        "outputId": "68a8cb34-0c88-4ba0-9469-e124c4623745"
      },
      "source": [
        "cd Soybean_Images_MachineLearning/"
      ],
      "execution_count": 2,
      "outputs": [
        {
          "output_type": "stream",
          "text": [
            "/content/Soybean_Images_MachineLearning\n"
          ],
          "name": "stdout"
        }
      ]
    },
    {
      "cell_type": "code",
      "metadata": {
        "colab": {
          "base_uri": "https://localhost:8080/"
        },
        "id": "auE4Y95vSwhg",
        "outputId": "52e034a9-8e8a-467d-ef3e-98e23e495c66"
      },
      "source": [
        "ls"
      ],
      "execution_count": 3,
      "outputs": [
        {
          "output_type": "stream",
          "text": [
            "README.md                Soybean_healthy_test.zip   Soybean_rust_train.zip\n",
            "Soybean_downy_test.zip   Soybean_healthy_train.zip\n",
            "Soybean_downy_train.zip  Soybean_rust_test.zip\n"
          ],
          "name": "stdout"
        }
      ]
    },
    {
      "cell_type": "code",
      "metadata": {
        "colab": {
          "base_uri": "https://localhost:8080/"
        },
        "id": "CBEGsOtYSxMe",
        "outputId": "854e778e-b3e1-43b5-ab69-ebd8c4fd44b7"
      },
      "source": [
        "!unzip /content/Soybean_Images_MachineLearning/Soybean_downy_train.zip\r\n",
        "!unzip /content/Soybean_Images_MachineLearning/Soybean_rust_train.zip\r\n",
        "!unzip /content/Soybean_Images_MachineLearning/Soybean_healthy_train.zip"
      ],
      "execution_count": 4,
      "outputs": [
        {
          "output_type": "stream",
          "text": [
            "Archive:  /content/Soybean_Images_MachineLearning/Soybean_downy_train.zip\n",
            "  inflating: Soybean_downy_train/Agron_Iastate_downymildewleaf_001.jpg  \n",
            "  inflating: Soybean_downy_train/Downey_mildew_undel_2.PNG  \n",
            "  inflating: Soybean_downy_train/downy_mildew_1_thesoyreport.jpg  \n",
            "  inflating: Soybean_downy_train/downy_mildew_2_thesoyreport.jpg  \n",
            "  inflating: Soybean_downy_train/downy_mildew_IL_lg_soybeanresearchinfo.jpg  \n",
            "  inflating: Soybean_downy_train/Downy_Mildew_Soybean_Arkansas.PNG  \n",
            "  inflating: Soybean_downy_train/Downy_Mildew_Soybean_Arkansas2.PNG  \n",
            "  inflating: Soybean_downy_train/Downy_Mildew_undel.PNG  \n",
            "  inflating: Soybean_downy_train/downy_mildew_university_of_minnesota_dmild2_200px.jpg  \n",
            "  inflating: Soybean_downy_train/insectimages_powdery_mildew5469487.jpg  \n",
            "  inflating: Soybean_downy_train/university_of_minnesota_dmild3_200px.jpg  \n",
            "  inflating: Soybean_downy_train/university_of_minnesota_dmild4_200px.jpg  \n",
            "  inflating: Soybean_downy_train/University_of_Minnesota_downy_mildew_dmild1_200px.jpg  \n",
            "  inflating: Soybean_downy_train/uwex_downymildew_sporulation_lg_1.jpg  \n",
            "Archive:  /content/Soybean_Images_MachineLearning/Soybean_rust_train.zip\n",
            "  inflating: Soybean_rust_train/soybean_rust_early2_USDA_illinois_i1.jpg  \n",
            "  inflating: Soybean_rust_train/soybean_rust_invasive_1265014.jpg  \n",
            "  inflating: Soybean_rust_train/soybean_rust_invasive_1265015.jpg  \n",
            "  inflating: Soybean_rust_train/soybean_rust_invasive_1265016.jpg  \n",
            "  inflating: Soybean_rust_train/soybean_rust_invasive_1265017.jpg  \n",
            "  inflating: Soybean_rust_train/soybean_rust_invasive_5202010.jpg  \n",
            "  inflating: Soybean_rust_train/soybean_rust_invasive_5202011.jpg  \n",
            "  inflating: Soybean_rust_train/soybean_rust_invasive_5202012.jpg  \n",
            "  inflating: Soybean_rust_train/soybean_rust_invasive_5202013.jpg  \n",
            "  inflating: Soybean_rust_train/soybean_rust_invasive_5202014.jpg  \n",
            "  inflating: Soybean_rust_train/soybean_rust_invasive_5202015.jpg  \n",
            "  inflating: Soybean_rust_train/soybean_rust_invasive_5202016.jpg  \n",
            "  inflating: Soybean_rust_train/soybean_rust_invasive_5202017.jpg  \n",
            "  inflating: Soybean_rust_train/soybean_rust_invasive_5202018.jpg  \n",
            "  inflating: Soybean_rust_train/soybean_rust_invasive_5202019.jpg  \n",
            "  inflating: Soybean_rust_train/soybean_rust_invasive_5202020.jpg  \n",
            "  inflating: Soybean_rust_train/soybean_rust_invasive_5202021.jpg  \n",
            "  inflating: Soybean_rust_train/soybean_rust_invasive_5202022.jpg  \n",
            "  inflating: Soybean_rust_train/soybean_rust_invasive_5257027.jpg  \n",
            "  inflating: Soybean_rust_train/soybean_rust_invasive_5257031.jpg  \n",
            "  inflating: Soybean_rust_train/soybean_rust_invasive_5257033.jpg  \n",
            "  inflating: Soybean_rust_train/soybean_rust_invasive_5257034.jpg  \n",
            "  inflating: Soybean_rust_train/soybean_rust_invasive_5260093.jpg  \n",
            "  inflating: Soybean_rust_train/soybean_rust_invasive_5260095.jpg  \n",
            "  inflating: Soybean_rust_train/soybean_rust_invasive_5369087.jpg  \n",
            "  inflating: Soybean_rust_train/soybean_rust_invasive_5369089.jpg  \n",
            "  inflating: Soybean_rust_train/soybean_rust_invasive_5369090.jpg  \n",
            "  inflating: Soybean_rust_train/soybean_rust_invasive_5369091.jpg  \n",
            "  inflating: Soybean_rust_train/soybean_rust_invasive_5369092.jpg  \n",
            "  inflating: Soybean_rust_train/soybean_rust_invasive_5369093.jpg  \n",
            "  inflating: Soybean_rust_train/soybean_rust_invasive_5369094.jpg  \n",
            "  inflating: Soybean_rust_train/soybean_rust_invasive_5369095.jpg  \n",
            "  inflating: Soybean_rust_train/soybean_rust_invasive_5369096.jpg  \n",
            "  inflating: Soybean_rust_train/soybean_rust_invasive_5369097.jpg  \n",
            "  inflating: Soybean_rust_train/soybean_rust_invasive_5440185.jpg  \n",
            "  inflating: Soybean_rust_train/soybean_rust_invasive_5440187.jpg  \n",
            "  inflating: Soybean_rust_train/soybean_rust_invasive_5440188.jpg  \n",
            "  inflating: Soybean_rust_train/soybean_rust_invasive_5440189.jpg  \n",
            "  inflating: Soybean_rust_train/soybean_rust_invasive_5470070.jpg  \n",
            "  inflating: Soybean_rust_train/soybean_rust_invasive_5470071.jpg  \n",
            "  inflating: Soybean_rust_train/soybean_rust_invasive_5470072.jpg  \n",
            "  inflating: Soybean_rust_train/soybean_rust_invasive_5470073.jpg  \n",
            "  inflating: Soybean_rust_train/soybean_rust_invasive_5470074.jpg  \n",
            "  inflating: Soybean_rust_train/soybean_rust_invasive_5470075.jpg  \n",
            "  inflating: Soybean_rust_train/soybean_rust_invasive_5470076.jpg  \n",
            "  inflating: Soybean_rust_train/soybean_rust_invasive_5470077.jpg  \n",
            "  inflating: Soybean_rust_train/soybean_rust_invasive_5470078.jpg  \n",
            "  inflating: Soybean_rust_train/soybean_rust_invasive_5470079.jpg  \n",
            "  inflating: Soybean_rust_train/soybean_rust_invasive_5470080.jpg  \n",
            "  inflating: Soybean_rust_train/soybean_rust_invasive_5470081.jpg  \n",
            "  inflating: Soybean_rust_train/soybean_rust_invasive_5470082.jpg  \n",
            "  inflating: Soybean_rust_train/soybean_rust_invasive_5470083.jpg  \n",
            "  inflating: Soybean_rust_train/soybean_rust_invasive_5470084.jpg  \n",
            "  inflating: Soybean_rust_train/soybean_rust_invasive_5470085.jpg  \n",
            "  inflating: Soybean_rust_train/soybean_rust_invasive_5470086.jpg  \n",
            "  inflating: Soybean_rust_train/soybean_rust_invasive_5470087.jpg  \n",
            "  inflating: Soybean_rust_train/soybean_rust_invasive_5470090.jpg  \n",
            "  inflating: Soybean_rust_train/soybean_rust_invasive_5470093.jpg  \n",
            "  inflating: Soybean_rust_train/soybean_rust_invasive_5470094.jpg  \n",
            "  inflating: Soybean_rust_train/soybean_rust_invasive_5470095.jpg  \n",
            "  inflating: Soybean_rust_train/soybean_rust_invasive_5470096.jpg  \n",
            "  inflating: Soybean_rust_train/soybean_rust_invasive_5470097.jpg  \n",
            "  inflating: Soybean_rust_train/soybean_rust_invasive_5470098.jpg  \n",
            "  inflating: Soybean_rust_train/soybean_rust_invasive_5470099.jpg  \n",
            "  inflating: Soybean_rust_train/soybean_rust_invasive_5470101.jpg  \n",
            "  inflating: Soybean_rust_train/soybean_rust_invasive_5470102.jpg  \n",
            "  inflating: Soybean_rust_train/soybean_rust_invasive_5470103.jpg  \n",
            "  inflating: Soybean_rust_train/soybean_rust_invasive_5470104.jpg  \n",
            "  inflating: Soybean_rust_train/soybean_rust_invasive_5470105.jpg  \n",
            "  inflating: Soybean_rust_train/soybean_rust_invasive_5470106.jpg  \n",
            "  inflating: Soybean_rust_train/soybean_rust_invasive_5470107.jpg  \n",
            "  inflating: Soybean_rust_train/soybean_rust_invasive_5470108.jpg  \n",
            "  inflating: Soybean_rust_train/soybean_rust_invasive_5470109.jpg  \n",
            "  inflating: Soybean_rust_train/soybean_rust_invasive_5470110.jpg  \n",
            "  inflating: Soybean_rust_train/soybean_rust_invasive_5470112.jpg  \n",
            "  inflating: Soybean_rust_train/soybean_rust_invasive_5470113.jpg  \n",
            "  inflating: Soybean_rust_train/soybean_rust_invasive_5470114.jpg  \n",
            "  inflating: Soybean_rust_train/soybean_rust_invasive_5470115.jpg  \n",
            "  inflating: Soybean_rust_train/soybean_rust_invasive_5470116.jpg  \n",
            "  inflating: Soybean_rust_train/soybean_rust_invasive_5470117.jpg  \n",
            "  inflating: Soybean_rust_train/soybean_rust_invasive_5470120.jpg  \n",
            "  inflating: Soybean_rust_train/soybean_rust_invasive_5470121.jpg  \n",
            "  inflating: Soybean_rust_train/soybean_rust_invasive_5470122.jpg  \n",
            "  inflating: Soybean_rust_train/soybean_rust_invasive_5470123.jpg  \n",
            "  inflating: Soybean_rust_train/soybean_rust_invasive_5470124.jpg  \n",
            "  inflating: Soybean_rust_train/soybean_rust_invasive_5470125.jpg  \n",
            "  inflating: Soybean_rust_train/soybean_rust_ivasive_5470088.jpg  \n",
            "Archive:  /content/Soybean_Images_MachineLearning/Soybean_healthy_train.zip\n",
            "  inflating: Soybean_healthy_train/Africa_soybean.PNG  \n",
            "  inflating: Soybean_healthy_train/agriculutre_wire_soybean_field_thLBHF81VT.jpg  \n",
            "  inflating: Soybean_healthy_train/Clemson_growth_stages_image002.jpg  \n",
            "  inflating: Soybean_healthy_train/Clemson_growth_stages_image004.jpg  \n",
            "  inflating: Soybean_healthy_train/Clemson_growth_stages_image006.jpg  \n",
            "  inflating: Soybean_healthy_train/Clemson_growth_stages_image008.jpg  \n",
            "  inflating: Soybean_healthy_train/Corn_and_soy_bean_digest_1.png  \n",
            "  inflating: Soybean_healthy_train/Double_soybean_yields_Africa_Zambia_Agriculture_Research_institute_1.PNG  \n",
            "  inflating: Soybean_healthy_train/FAO_soy_1.PNG  \n",
            "  inflating: Soybean_healthy_train/FAO_soy_2.PNG  \n",
            "  inflating: Soybean_healthy_train/FAO_soy_3.PNG  \n",
            "  inflating: Soybean_healthy_train/FAO_soy_4.PNG  \n",
            "  inflating: Soybean_healthy_train/FAO_soy_5.PNG  \n",
            "  inflating: Soybean_healthy_train/FAO_soy_6.PNG  \n",
            "  inflating: Soybean_healthy_train/FAO_soy_7.PNG  \n",
            "  inflating: Soybean_healthy_train/flckr_alabama_farmer_association_soy1.PNG  \n",
            "  inflating: Soybean_healthy_train/flickr_soyfield.PNG  \n",
            "  inflating: Soybean_healthy_train/flickr_soyfield_crookedeyebrow.png  \n",
            "  inflating: Soybean_healthy_train/Growing_Soybeans_Farmers_Flkr_thHTWV7NXC.jpg  \n",
            "  inflating: Soybean_healthy_train/Hydroponic_revive_Soy.PNG  \n",
            "  inflating: Soybean_healthy_train/Medcitynews_soybean_23877066_10213274ef_z-588x242.jpg  \n",
            "  inflating: Soybean_healthy_train/NASA_Soy.PNG  \n",
            "  inflating: Soybean_healthy_train/plant_village_10059823964_0c66b93c50_z.jpg  \n",
            "  inflating: Soybean_healthy_train/plant_village_10059910446_a2cd3a2771_z.jpg  \n",
            "  inflating: Soybean_healthy_train/plant_village_14975109218_bc9a134b7c_z.jpg  \n",
            "  inflating: Soybean_healthy_train/plant_village_2876262410_10d20f3da2_z.jpg  \n",
            "  inflating: Soybean_healthy_train/plant_village_3988507453_3e3bbb3716_z.jpg  \n",
            "  inflating: Soybean_healthy_train/plant_village_9623506080_0c39d248f6_z.jpg  \n",
            "  inflating: Soybean_healthy_train/plant_village_9623842834_5594d71ff0_z.jpg  \n",
            "  inflating: Soybean_healthy_train/plantvillage_9632913612_5da530dafe_z.jpg  \n",
            "  inflating: Soybean_healthy_train/Purdue_soybean_report1.PNG  \n",
            "  inflating: Soybean_healthy_train/Purdue_soybean_report2.PNG  \n",
            "  inflating: Soybean_healthy_train/Soybean_extension_vt_1.PNG  \n",
            "  inflating: Soybean_healthy_train/Soybean_report_sub_Purdue.PNG  \n",
            "  inflating: Soybean_healthy_train/Soybean_report_sub_Purdue_3.PNG  \n",
            "  inflating: Soybean_healthy_train/soybean_vt_2.PNG  \n",
            "  inflating: Soybean_healthy_train/soybean_wikipedia.png  \n",
            "  inflating: Soybean_healthy_train/Soybeans_Management_Tidewater_VT.PNG  \n",
            "  inflating: Soybean_healthy_train/Zambia_Agriculure_Research_Institute_2.PNG  \n",
            "  inflating: Soybean_healthy_train/Zambia_Agriculure_Research_Institute_3.PNG  \n"
          ],
          "name": "stdout"
        }
      ]
    },
    {
      "cell_type": "code",
      "metadata": {
        "id": "nMNDl5OaZPIt"
      },
      "source": [
        "!rm -r /content/Soybean_Images_MachineLearning/.git"
      ],
      "execution_count": 8,
      "outputs": []
    },
    {
      "cell_type": "code",
      "metadata": {
        "id": "3g8GmvrGZil2"
      },
      "source": [
        "import glob\r\n",
        "\r\n",
        "filepaths = glob.glob('/content/Soybean_Images_MachineLearning/*/*.{jpg,jpeg,png}')"
      ],
      "execution_count": 17,
      "outputs": []
    },
    {
      "cell_type": "code",
      "metadata": {
        "colab": {
          "base_uri": "https://localhost:8080/"
        },
        "id": "dQZxnWRHZiVM",
        "outputId": "549577c1-0c57-4328-ed6f-3b96a5ba114f"
      },
      "source": [
        "sum('rust_train' in f for f in filepaths)"
      ],
      "execution_count": 18,
      "outputs": [
        {
          "output_type": "execute_result",
          "data": {
            "text/plain": [
              "0"
            ]
          },
          "metadata": {
            "tags": []
          },
          "execution_count": 18
        }
      ]
    },
    {
      "cell_type": "code",
      "metadata": {
        "colab": {
          "base_uri": "https://localhost:8080/"
        },
        "id": "1Fu0yaITZ7GL",
        "outputId": "27b6218f-95a5-4ab4-f5d5-a88813f473b8"
      },
      "source": [
        "sum('healthy_train' in f for f in filepaths)"
      ],
      "execution_count": 13,
      "outputs": [
        {
          "output_type": "execute_result",
          "data": {
            "text/plain": [
              "15"
            ]
          },
          "metadata": {
            "tags": []
          },
          "execution_count": 13
        }
      ]
    },
    {
      "cell_type": "code",
      "metadata": {
        "colab": {
          "base_uri": "https://localhost:8080/"
        },
        "id": "1LNpuBXpZ6xt",
        "outputId": "6b0b3bb9-9d8b-4adf-e135-2329cadf877f"
      },
      "source": [
        "sum('downy_train' in f for f in filepaths)"
      ],
      "execution_count": 14,
      "outputs": [
        {
          "output_type": "execute_result",
          "data": {
            "text/plain": [
              "10"
            ]
          },
          "metadata": {
            "tags": []
          },
          "execution_count": 14
        }
      ]
    },
    {
      "cell_type": "code",
      "metadata": {
        "colab": {
          "base_uri": "https://localhost:8080/"
        },
        "id": "SnU5Z9ZQaL1a",
        "outputId": "b6c060c7-c78d-4a30-f6b8-8446c1167867"
      },
      "source": [
        "len(filepaths)"
      ],
      "execution_count": 16,
      "outputs": [
        {
          "output_type": "execute_result",
          "data": {
            "text/plain": [
              "112"
            ]
          },
          "metadata": {
            "tags": []
          },
          "execution_count": 16
        }
      ]
    },
    {
      "cell_type": "code",
      "metadata": {
        "colab": {
          "base_uri": "https://localhost:8080/"
        },
        "id": "B6kLHvCtS_6V",
        "outputId": "9347a31a-5648-46c5-9215-05d7f2e8e3dd"
      },
      "source": [
        "# TODO: Import the model and the preprocess_input function\r\n",
        "from keras.applications.resnet50 import ResNet50, preprocess_input\r\n",
        "\r\n",
        "# TODO: Import the ImageDataGenerator class\r\n",
        "from keras.preprocessing.image import ImageDataGenerator\r\n",
        "\r\n",
        "# Shape in which all images are going to be reshaped\r\n",
        "TARGET_SHAPE = (224, 224, 3)\r\n",
        "\r\n",
        "# TODO: Initialize the data generator class \r\n",
        "datagen = ImageDataGenerator(preprocessing_function=preprocess_input,\r\n",
        "                             validation_split=0.2)\r\n",
        "\r\n",
        "# TODO: Create the training and validation generators using the method flow_from_directory\r\n",
        "train_gen = datagen.flow_from_directory('/content/Soybean_Images_MachineLearning', \r\n",
        "                                        target_size=TARGET_SHAPE[:2], \r\n",
        "                                        class_mode='sparse',\r\n",
        "                                        subset='training')\r\n",
        "\r\n",
        "valid_gen = datagen.flow_from_directory('/content/Soybean_Images_MachineLearning', \r\n",
        "                                        target_size=TARGET_SHAPE[:2], \r\n",
        "                                        class_mode='sparse',\r\n",
        "                                        subset='validation')"
      ],
      "execution_count": 37,
      "outputs": [
        {
          "output_type": "stream",
          "text": [
            "Found 114 images belonging to 3 classes.\n",
            "Found 27 images belonging to 3 classes.\n"
          ],
          "name": "stdout"
        }
      ]
    },
    {
      "cell_type": "code",
      "metadata": {
        "colab": {
          "base_uri": "https://localhost:8080/"
        },
        "id": "CiQZgugLY5p8",
        "outputId": "73519d48-3d8f-4672-de82-ada7a08fd50c"
      },
      "source": [
        "sum(train_gen.classes==1)"
      ],
      "execution_count": 33,
      "outputs": [
        {
          "output_type": "execute_result",
          "data": {
            "text/plain": [
              "40"
            ]
          },
          "metadata": {
            "tags": []
          },
          "execution_count": 33
        }
      ]
    },
    {
      "cell_type": "code",
      "metadata": {
        "colab": {
          "base_uri": "https://localhost:8080/"
        },
        "id": "rI-KhxjoZDZv",
        "outputId": "abda331b-2016-4d3e-8087-138b68bc4717"
      },
      "source": [
        "sum(train_gen.classes==0)"
      ],
      "execution_count": 34,
      "outputs": [
        {
          "output_type": "execute_result",
          "data": {
            "text/plain": [
              "14"
            ]
          },
          "metadata": {
            "tags": []
          },
          "execution_count": 34
        }
      ]
    },
    {
      "cell_type": "code",
      "metadata": {
        "colab": {
          "base_uri": "https://localhost:8080/"
        },
        "id": "1bCd-hMGbInI",
        "outputId": "85c7f78c-e869-4aa2-9605-b7809a218153"
      },
      "source": [
        "sum(train_gen.classes==2)"
      ],
      "execution_count": 35,
      "outputs": [
        {
          "output_type": "execute_result",
          "data": {
            "text/plain": [
              "87"
            ]
          },
          "metadata": {
            "tags": []
          },
          "execution_count": 35
        }
      ]
    },
    {
      "cell_type": "code",
      "metadata": {
        "colab": {
          "base_uri": "https://localhost:8080/"
        },
        "id": "dKXS1kNTbL_8",
        "outputId": "5ca7ba41-fa09-4a83-f231-d5bec92ae409"
      },
      "source": [
        "train_gen.class_indices"
      ],
      "execution_count": 27,
      "outputs": [
        {
          "output_type": "execute_result",
          "data": {
            "text/plain": [
              "{'Soybean_downy_train': 0, 'Soybean_healthy_train': 1, 'Soybean_rust_train': 2}"
            ]
          },
          "metadata": {
            "tags": []
          },
          "execution_count": 27
        }
      ]
    },
    {
      "cell_type": "code",
      "metadata": {
        "id": "kshYebiWbQFn"
      },
      "source": [
        "# 1. TODO: Import any additional packages\r\n",
        "from keras.models import Sequential\r\n",
        "from keras.layers import Flatten, Dense, GlobalAveragePooling2D\r\n",
        "from keras.applications.resnet50 import ResNet50\r\n",
        "\r\n",
        "# 2. TODO: Initialize base model\r\n",
        "base_model = ResNet50(include_top=False, input_shape=TARGET_SHAPE)\r\n",
        "\r\n",
        "# 3. TODO: Freeze layers from the base model\r\n",
        "for layer in base_model.layers:\r\n",
        "    layer.trainable=False\r\n",
        "    \r\n",
        "# 4. TODO: Add Fully connected layer to the base model\r\n",
        "model = Sequential([base_model,\r\n",
        "                    GlobalAveragePooling2D(),\r\n",
        "                    Dense(1024, activation='relu'),\r\n",
        "                    Dense(3, activation='softmax')])"
      ],
      "execution_count": 38,
      "outputs": []
    },
    {
      "cell_type": "code",
      "metadata": {
        "id": "UPO3a76Nbyqe"
      },
      "source": [
        "from keras.optimizers import Adam\r\n",
        "model.compile(optimizer=Adam(lr=1e-4), \r\n",
        "              loss='sparse_categorical_crossentropy', \r\n",
        "              metrics=['accuracy'])"
      ],
      "execution_count": 39,
      "outputs": []
    },
    {
      "cell_type": "code",
      "metadata": {
        "colab": {
          "base_uri": "https://localhost:8080/"
        },
        "id": "qaoYhWV0b6id",
        "outputId": "b504f88d-91ae-49e8-b281-073d8465c3b9"
      },
      "source": [
        "model.fit_generator(train_gen, train_gen.n//train_gen.batch_size, epochs=3,\r\n",
        "                    validation_data=valid_gen)"
      ],
      "execution_count": 41,
      "outputs": [
        {
          "output_type": "stream",
          "text": [
            "Epoch 1/3\n",
            "3/3 [==============================] - 15s 5s/step - loss: 0.2694 - accuracy: 0.9062 - val_loss: 0.4585 - val_accuracy: 0.8148\n",
            "Epoch 2/3\n",
            "3/3 [==============================] - 14s 5s/step - loss: 0.2274 - accuracy: 0.9167 - val_loss: 0.4073 - val_accuracy: 0.8519\n",
            "Epoch 3/3\n",
            "3/3 [==============================] - 14s 5s/step - loss: 0.1448 - accuracy: 0.9583 - val_loss: 0.3768 - val_accuracy: 0.8519\n"
          ],
          "name": "stdout"
        },
        {
          "output_type": "execute_result",
          "data": {
            "text/plain": [
              "<tensorflow.python.keras.callbacks.History at 0x7f4ff62bf9b0>"
            ]
          },
          "metadata": {
            "tags": []
          },
          "execution_count": 41
        }
      ]
    },
    {
      "cell_type": "code",
      "metadata": {
        "id": "DU_bXuxCcImy"
      },
      "source": [
        "model.fit_generator?"
      ],
      "execution_count": 30,
      "outputs": []
    },
    {
      "cell_type": "code",
      "metadata": {
        "id": "epD9SJZdcLRr"
      },
      "source": [
        ""
      ],
      "execution_count": null,
      "outputs": []
    }
  ]
}