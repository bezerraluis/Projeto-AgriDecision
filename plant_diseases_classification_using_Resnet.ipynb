{
  "nbformat": 4,
  "nbformat_minor": 0,
  "metadata": {
    "kernelspec": {
      "display_name": "Python 3",
      "language": "python",
      "name": "python3"
    },
    "language_info": {
      "codemirror_mode": {
        "name": "ipython",
        "version": 3
      },
      "file_extension": ".py",
      "mimetype": "text/x-python",
      "name": "python",
      "nbconvert_exporter": "python",
      "pygments_lexer": "ipython3",
      "version": "3.8.3"
    },
    "colab": {
      "name": "plant-diseases-classification-using-Resnet.ipynb",
      "provenance": [],
      "toc_visible": true,
      "include_colab_link": true
    }
  },
  "cells": [
    {
      "cell_type": "markdown",
      "metadata": {
        "id": "view-in-github",
        "colab_type": "text"
      },
      "source": [
        "<a href=\"https://colab.research.google.com/github/bezerraluis/Projeto-AgriDecision/blob/main/plant_diseases_classification_using_Resnet.ipynb\" target=\"_parent\"><img src=\"https://colab.research.google.com/assets/colab-badge.svg\" alt=\"Open In Colab\"/></a>"
      ]
    },
    {
      "cell_type": "markdown",
      "metadata": {
        "id": "E8xjHXxctnGR"
      },
      "source": [
        "# Até Aqui"
      ]
    },
    {
      "cell_type": "code",
      "metadata": {
        "id": "cBc7tiETn-xN"
      },
      "source": [
        " #from google.colab import drive\n",
        "   # drive.mount('/content/drive')"
      ],
      "execution_count": 21,
      "outputs": []
    },
    {
      "cell_type": "code",
      "metadata": {
        "id": "SRFNci-smUDX"
      },
      "source": [
        "import zipfile\n",
        "dataset_path = '/content/drive/MyDrive/Todos os arquivos do pc antigo/datasets Kaggle/DataSet plants CNN/archive.zip'\n",
        "zip_object = zipfile.ZipFile(file = dataset_path, mode = \"r\")\n",
        "zip_object.extractall('./')\n",
        "zip_object.close()"
      ],
      "execution_count": 19,
      "outputs": []
    },
    {
      "cell_type": "markdown",
      "metadata": {
        "_uuid": "f53889b0946d463df9c98d7b265984e1309caaf7",
        "id": "mIKPZdz9fikJ"
      },
      "source": [
        "**Defining base Model**"
      ]
    },
    {
      "cell_type": "code",
      "metadata": {
        "id": "cHUcBCH7fikJ"
      },
      "source": [
        "from keras.models import Sequential\n",
        "from keras.layers import Flatten, Dense, GlobalAveragePooling2D\n",
        "from keras.applications.resnet50 import ResNet50\n",
        "\n",
        "TARGET_SHAPE = (224, 224, 3)\n",
        "\n",
        "# 2. TODO: Initialize base model\n",
        "base_model = ResNet50(include_top=False, input_shape=TARGET_SHAPE,weights=\"imagenet\")\n",
        "    \n",
        "# 3. TODO: Freeze layers from the base model\n",
        "for layer in base_model.layers:\n",
        "    layer.trainable=False\n",
        "    \n",
        "# 4. TODO: Add Fully connected layer to the base model\n",
        "model = Sequential([base_model,\n",
        "                    GlobalAveragePooling2D(),\n",
        "                    Dense(1024, activation='relu'),\n",
        "                    Dense(38, activation='softmax')])"
      ],
      "execution_count": 23,
      "outputs": []
    },
    {
      "cell_type": "code",
      "metadata": {
        "colab": {
          "base_uri": "https://localhost:8080/"
        },
        "id": "ZL1z_mjdfikK",
        "outputId": "62ff22de-7569-476c-c641-37d694e65038"
      },
      "source": [
        "\n",
        "# we should freeze:\n",
        "from keras import layers\n",
        "for i, layer in enumerate(model.layers):\n",
        "   print(i, layer.name)"
      ],
      "execution_count": 24,
      "outputs": [
        {
          "output_type": "stream",
          "text": [
            "0 resnet50\n",
            "1 global_average_pooling2d_2\n",
            "2 dense_4\n",
            "3 dense_5\n"
          ],
          "name": "stdout"
        }
      ]
    },
    {
      "cell_type": "markdown",
      "metadata": {
        "_uuid": "08217a22b90fd2d7fca2307f93d9a17fd28433fa",
        "id": "CGR8hhvSfikL"
      },
      "source": [
        "**Fine Tuning By Freezing Some Layers Of Our Model**"
      ]
    },
    {
      "cell_type": "code",
      "metadata": {
        "_uuid": "086c14cae8141a28e3092d0b9bef20ff30435d6b",
        "scrolled": true,
        "colab": {
          "base_uri": "https://localhost:8080/"
        },
        "id": "yw5xpWJSfikL",
        "outputId": "48b1de59-a392-4c7e-d0b3-c532bb93db93"
      },
      "source": [
        "# we chose to train the top 2 conv blocks, i.e. we will freeze\n",
        "# the first 8 layers and unfreeze the rest:\n",
        "print(\"Freezed layers:\")\n",
        "for i, layer in enumerate(model.layers[:20]):\n",
        "    print(i, layer.name)\n",
        "    layer.trainable = False\n"
      ],
      "execution_count": 25,
      "outputs": [
        {
          "output_type": "stream",
          "text": [
            "Freezed layers:\n",
            "0 resnet50\n",
            "1 global_average_pooling2d_2\n",
            "2 dense_4\n",
            "3 dense_5\n"
          ],
          "name": "stdout"
        }
      ]
    },
    {
      "cell_type": "markdown",
      "metadata": {
        "_uuid": "4f188a43baf34e7e3385ef3d85c08dac2dd95e5a",
        "id": "QvInVvzxfikL"
      },
      "source": [
        "**Model Summary After Freezing**"
      ]
    },
    {
      "cell_type": "code",
      "metadata": {
        "_uuid": "1968e72ca3ad31e10e18a7f8c8628fe8a6e51591",
        "scrolled": true,
        "colab": {
          "base_uri": "https://localhost:8080/"
        },
        "id": "j1gbo7C-fikL",
        "outputId": "9ad0ab07-0d8f-4c3e-b01b-0d395e2f97eb"
      },
      "source": [
        "#trainable parameters decrease after freezing some bottom layers   \n",
        "model.summary()"
      ],
      "execution_count": 26,
      "outputs": [
        {
          "output_type": "stream",
          "text": [
            "Model: \"sequential_2\"\n",
            "_________________________________________________________________\n",
            "Layer (type)                 Output Shape              Param #   \n",
            "=================================================================\n",
            "resnet50 (Functional)        (None, 7, 7, 2048)        23587712  \n",
            "_________________________________________________________________\n",
            "global_average_pooling2d_2 ( (None, 2048)              0         \n",
            "_________________________________________________________________\n",
            "dense_4 (Dense)              (None, 1024)              2098176   \n",
            "_________________________________________________________________\n",
            "dense_5 (Dense)              (None, 38)                38950     \n",
            "=================================================================\n",
            "Total params: 25,724,838\n",
            "Trainable params: 0\n",
            "Non-trainable params: 25,724,838\n",
            "_________________________________________________________________\n"
          ],
          "name": "stdout"
        }
      ]
    },
    {
      "cell_type": "markdown",
      "metadata": {
        "_uuid": "84979b7759e5b0b7b6df16b4e89973a599b828b0",
        "id": "0ALzJZZIfikL"
      },
      "source": [
        "**Compiling the Model**"
      ]
    },
    {
      "cell_type": "code",
      "metadata": {
        "_uuid": "e948e04a3d87563a1f3b14ed27aefecca83f9c34",
        "id": "RKlep8z_fikL"
      },
      "source": [
        "# Compiling the Model\n",
        "#from keras import optimizers\n",
        "#model.compile(optimizer=optimizers.SGD(lr=0.001, momentum=0.9, decay=0.005),\n",
        "              #loss='categorical_crossentropy',\n",
        "              #metrics=['accuracy'])"
      ],
      "execution_count": 27,
      "outputs": []
    },
    {
      "cell_type": "code",
      "metadata": {
        "id": "q6B9LOM1fikL"
      },
      "source": [
        "from keras.optimizers import Adam\n",
        "model.compile(optimizer=Adam(lr=1e-4), loss='sparse_categorical_crossentropy', metrics=['accuracy'])"
      ],
      "execution_count": 28,
      "outputs": []
    },
    {
      "cell_type": "markdown",
      "metadata": {
        "id": "9lbEbSSXfpo5"
      },
      "source": [
        "# Continuar "
      ]
    },
    {
      "cell_type": "markdown",
      "metadata": {
        "_uuid": "44a0eac6f578b76ecafc1bb35e6c5e87ff7db9f9",
        "id": "9L1mGLa9fikL"
      },
      "source": [
        "**Image Preprocessing**"
      ]
    },
    {
      "cell_type": "code",
      "metadata": {
        "_uuid": "adc8517ab6e8a4746666f4af0a6345438c3ef625",
        "id": "ZjfsAc4efikL"
      },
      "source": [
        "# image preprocessing\n",
        "from keras.preprocessing.image import ImageDataGenerator\n",
        "\n",
        "train_datagen = ImageDataGenerator(rescale=1./255,\n",
        "                                   shear_range=0.2,\n",
        "                                   zoom_range=0.2,\n",
        "                                   width_shift_range=0.2,\n",
        "                                   height_shift_range=0.2,\n",
        "                                   fill_mode='nearest')\n",
        "\n",
        "valid_datagen = ImageDataGenerator(rescale=1./255)\n",
        "\n",
        "batch_size = 128\n",
        "base_dir = \"../input/new-plant-diseases-dataset/new plant diseases dataset(augmented)/New Plant Diseases Dataset(Augmented)\"\n",
        "\n",
        "training_set = train_datagen.flow_from_directory(base_dir+'/train',\n",
        "                                                 target_size=(224, 224),\n",
        "                                                 batch_size=batch_size,\n",
        "                                                 class_mode='categorical')\n",
        "\n",
        "valid_set = valid_datagen.flow_from_directory(base_dir+'/valid',\n",
        "                                            target_size=(224, 224),\n",
        "                                            batch_size=batch_size,\n",
        "                                            class_mode='categorical')"
      ],
      "execution_count": null,
      "outputs": []
    },
    {
      "cell_type": "code",
      "metadata": {
        "_uuid": "be12101d992982e4ac69398ae6e2502f65257993",
        "id": "qhFFOqu2fikL"
      },
      "source": [
        "class_dict = training_set.class_indices\n",
        "print(class_dict)"
      ],
      "execution_count": null,
      "outputs": []
    },
    {
      "cell_type": "code",
      "metadata": {
        "_uuid": "2531bd998202c56dfa9d4e156a5879e560bb9037",
        "id": "dsdYfRKzfikL"
      },
      "source": [
        "li = list(class_dict.keys())\n",
        "print(li)"
      ],
      "execution_count": null,
      "outputs": []
    },
    {
      "cell_type": "code",
      "metadata": {
        "_uuid": "7417faee3c80b35ef2d94d59ddf94e0b4c12bb7c",
        "id": "kkZEfgJUfikL"
      },
      "source": [
        "train_num = training_set.samples\n",
        "valid_num = valid_set.samples"
      ],
      "execution_count": null,
      "outputs": []
    },
    {
      "cell_type": "code",
      "metadata": {
        "_uuid": "232d2543395e74045d5181f51b75064c2683f2fb",
        "id": "mF_4Er0LfikL"
      },
      "source": [
        "# checkpoint\n",
        "from keras.callbacks import ModelCheckpoint\n",
        "weightpath = \"best_weights_9.hdf5\"\n",
        "checkpoint = ModelCheckpoint(weightpath, monitor='val_acc', verbose=1, save_best_only=True, save_weights_only=True, mode='max')\n",
        "callbacks_list = [checkpoint]\n",
        "\n",
        "#fitting images to CNN\n",
        "history = classifier.fit_generator(training_set,\n",
        "                         steps_per_epoch=train_num//batch_size,\n",
        "                         validation_data=valid_set,\n",
        "                         epochs=25,\n",
        "                         validation_steps=valid_num//batch_size,\n",
        "                         callbacks=callbacks_list)\n",
        "#saving model\n",
        "filepath=\"AlexNetModel.hdf5\"\n",
        "classifier.save(filepath)"
      ],
      "execution_count": null,
      "outputs": []
    },
    {
      "cell_type": "markdown",
      "metadata": {
        "_uuid": "db1d7eecfff95a4ad80d96dee3ef45d4360486c9",
        "id": "TmPeSfxDfikL"
      },
      "source": [
        "**Visualising Training Progress**"
      ]
    },
    {
      "cell_type": "code",
      "metadata": {
        "_uuid": "9d4090ff76d659e769c6e9d5bde191b09302b098",
        "id": "u8uhSdFrfikL"
      },
      "source": [
        "#plotting training values\n",
        "import matplotlib.pyplot as plt\n",
        "import seaborn as sns\n",
        "sns.set()\n",
        "\n",
        "acc = history.history['acc']\n",
        "val_acc = history.history['val_acc']\n",
        "loss = history.history['loss']\n",
        "val_loss = history.history['val_loss']\n",
        "epochs = range(1, len(loss) + 1)\n",
        "\n",
        "#accuracy plot\n",
        "plt.plot(epochs, acc, color='green', label='Training Accuracy')\n",
        "plt.plot(epochs, val_acc, color='blue', label='Validation Accuracy')\n",
        "plt.title('Training and Validation Accuracy')\n",
        "plt.ylabel('Accuracy')\n",
        "plt.xlabel('Epoch')\n",
        "plt.legend()\n",
        "\n",
        "plt.figure()\n",
        "#loss plot\n",
        "plt.plot(epochs, loss, color='pink', label='Training Loss')\n",
        "plt.plot(epochs, val_loss, color='red', label='Validation Loss')\n",
        "plt.title('Training and Validation Loss')\n",
        "plt.xlabel('Epoch')\n",
        "plt.ylabel('Loss')\n",
        "plt.legend()\n",
        "\n",
        "plt.show()"
      ],
      "execution_count": null,
      "outputs": []
    },
    {
      "cell_type": "markdown",
      "metadata": {
        "_uuid": "41ce7e2c92640cab238862be76bc215c5276e1b0",
        "id": "3YnJeX0NfikL"
      },
      "source": [
        "**Predicting New Test Image(s)**"
      ]
    },
    {
      "cell_type": "code",
      "metadata": {
        "_uuid": "d7555c94c00798f04c7bbc0d2ddc4e50e20c7d16",
        "id": "ShLRg7itfikL"
      },
      "source": [
        "# predicting an image\n",
        "from keras.preprocessing import image\n",
        "import numpy as np\n",
        "image_path = \"../input/new-plant-diseases-dataset/test/test/TomatoEarlyBlight1.JPG\"\n",
        "new_img = image.load_img(image_path, target_size=(224, 224))\n",
        "img = image.img_to_array(new_img)\n",
        "img = np.expand_dims(img, axis=0)\n",
        "img = img/255\n",
        "\n",
        "print(\"Following is our prediction:\")\n",
        "prediction = classifier.predict(img)\n",
        "# decode the results into a list of tuples (class, description, probability)\n",
        "# (one such list for each sample in the batch)\n",
        "d = prediction.flatten()\n",
        "j = d.max()\n",
        "for index,item in enumerate(d):\n",
        "    if item == j:\n",
        "        class_name = li[index]\n",
        "\n",
        "##Another way\n",
        "# img_class = classifier.predict_classes(img)\n",
        "# img_prob = classifier.predict_proba(img)\n",
        "# print(img_class ,img_prob )\n",
        "\n",
        "\n",
        "#ploting image with predicted class name        \n",
        "plt.figure(figsize = (4,4))\n",
        "plt.imshow(new_img)\n",
        "plt.axis('off')\n",
        "plt.title(class_name)\n",
        "plt.show()"
      ],
      "execution_count": null,
      "outputs": []
    },
    {
      "cell_type": "code",
      "metadata": {
        "id": "BJSKo_b6oQxX"
      },
      "source": [
        ""
      ],
      "execution_count": null,
      "outputs": []
    }
  ]
}